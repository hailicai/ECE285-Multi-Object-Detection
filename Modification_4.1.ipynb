{
 "cells": [
  {
   "cell_type": "markdown",
   "metadata": {},
   "source": [
    "# Fine-tuning with Birds Data Set"
   ]
  },
  {
   "cell_type": "code",
   "execution_count": 32,
   "metadata": {},
   "outputs": [],
   "source": [
    "from keras.optimizers import Adam, SGD\n",
    "from keras.callbacks import ModelCheckpoint, LearningRateScheduler, TerminateOnNaN, CSVLogger\n",
    "from keras import backend as K\n",
    "from keras.models import load_model\n",
    "from math import ceil\n",
    "import numpy as np\n",
    "from matplotlib import pyplot as plt\n",
    "\n",
    "from models.keras_ssd300 import ssd_300\n",
    "from keras_loss_function.keras_ssd_loss import SSDLoss\n",
    "from keras_layers.keras_layer_AnchorBoxes import AnchorBoxes\n",
    "from keras_layers.keras_layer_DecodeDetections import DecodeDetections\n",
    "from keras_layers.keras_layer_DecodeDetectionsFast import DecodeDetectionsFast\n",
    "from keras_layers.keras_layer_L2Normalization import L2Normalization\n",
    "\n",
    "from ssd_encoder_decoder.ssd_input_encoder import SSDInputEncoder\n",
    "from ssd_encoder_decoder.ssd_output_decoder import decode_detections, decode_detections_fast\n",
    "\n",
    "from data_generator.object_detection_2d_data_generator import DataGenerator\n",
    "from data_generator.object_detection_2d_geometric_ops import Resize\n",
    "from data_generator.object_detection_2d_photometric_ops import ConvertTo3Channels\n",
    "from data_generator.data_augmentation_chain_original_ssd import SSDDataAugmentation\n",
    "from data_generator.object_detection_2d_misc_utils import apply_inverse_transforms\n",
    "\n",
    "from eval_utils.average_precision_evaluator import Evaluator\n",
    "\n",
    "import os\n",
    "root_dir = os.getcwd()\n",
    "\n",
    "%matplotlib inline"
   ]
  },
  {
   "cell_type": "markdown",
   "metadata": {},
   "source": [
    "## 1. Set the model configuration parameters"
   ]
  },
  {
   "cell_type": "code",
   "execution_count": 15,
   "metadata": {},
   "outputs": [],
   "source": [
    "img_height = 300 # Height of the model input images\n",
    "img_width = 300 # Width of the model input images\n",
    "img_channels = 3 # Number of color channels of the model input images\n",
    "mean_color = [123, 117, 104] # The per-channel mean of the images in the dataset. Do not change this value if you're using any of the pre-trained weights.\n",
    "swap_channels = [2, 1, 0] # The color channel order in the original SSD is BGR, so we'll have the model reverse the color channel order of the input images.\n",
    "n_classes = 20 # Number of positive classes, e.g. 20 for Pascal VOC, 80 for MS COCO\n",
    "scales_pascal = [0.1, 0.2, 0.37, 0.54, 0.71, 0.88, 1.05] # The anchor box scaling factors used in the original SSD300 for the Pascal VOC datasets\n",
    "scales_coco = [0.07, 0.15, 0.33, 0.51, 0.69, 0.87, 1.05] # The anchor box scaling factors used in the original SSD300 for the MS COCO datasets\n",
    "scales = scales_pascal\n",
    "aspect_ratios = [[1.0, 2.0, 0.5],\n",
    "                 [1.0, 2.0, 0.5, 3.0, 1.0/3.0],\n",
    "                 [1.0, 2.0, 0.5, 3.0, 1.0/3.0],\n",
    "                 [1.0, 2.0, 0.5, 3.0, 1.0/3.0],\n",
    "                 [1.0, 2.0, 0.5],\n",
    "                 [1.0, 2.0, 0.5]] # The anchor box aspect ratios used in the original SSD300; the order matters\n",
    "two_boxes_for_ar1 = True\n",
    "steps = [8, 16, 32, 64, 100, 300] # The space between two adjacent anchor box center points for each predictor layer.\n",
    "offsets = [0.5, 0.5, 0.5, 0.5, 0.5, 0.5] # The offsets of the first anchor box center points from the top and left borders of the image as a fraction of the step size for each predictor layer.\n",
    "clip_boxes = False # Whether or not to clip the anchor boxes to lie entirely within the image boundaries\n",
    "variances = [0.1, 0.1, 0.2, 0.2] # The variances by which the encoded target coordinates are divided as in the original implementation\n",
    "normalize_coords = True"
   ]
  },
  {
   "cell_type": "markdown",
   "metadata": {},
   "source": [
    "## 2. Create new SSD model and load pre-trained weight\n",
    "Pre-trained weight (VOC2007+2012) can be found in the following link: https://drive.google.com/file/d/1M99knPZ4DpY9tI60iZqxXsAxX2bYWDvZ/view"
   ]
  },
  {
   "cell_type": "code",
   "execution_count": 16,
   "metadata": {},
   "outputs": [],
   "source": [
    "# 1: Build the Keras model.\n",
    "\n",
    "K.clear_session() # Clear previous models from memory.\n",
    "\n",
    "model = ssd_300(image_size=(img_height, img_width, img_channels),\n",
    "                n_classes=n_classes,\n",
    "                mode='training',\n",
    "                l2_regularization=0.0005,\n",
    "                scales=scales,\n",
    "                aspect_ratios_per_layer=aspect_ratios,\n",
    "                two_boxes_for_ar1=two_boxes_for_ar1,\n",
    "                steps=steps,\n",
    "                offsets=offsets,\n",
    "                clip_boxes=clip_boxes,\n",
    "                variances=variances,\n",
    "                normalize_coords=normalize_coords,\n",
    "                subtract_mean=mean_color,\n",
    "                swap_channels=swap_channels)\n",
    "\n",
    "# 2: Load some weights into the model. Adjust weight path accordingly. \n",
    "weights_path = os.path.join(root_dir,'VGG_VOC0712Plus_SSD_300x300_iter_240000.h5') \n",
    "\n",
    "model.load_weights(weights_path, by_name=True)\n",
    "\n",
    "# 3: Instantiate an optimizer and the SSD loss function and compile the model. \n",
    "#SGD optimizer is used here since it yields better result. Arguments inside SGD don't matter since they will be redefined later.\n",
    "\n",
    "#adam = Adam(lr=0.001, beta_1=0.9, beta_2=0.999, epsilon=1e-08, decay=0.0)\n",
    "sgd = SGD(lr=0.001, momentum=0.9, decay=0.0, nesterov=False)\n",
    "\n",
    "ssd_loss = SSDLoss(neg_pos_ratio=3, alpha=1.0)\n",
    "\n",
    "model.compile(optimizer=sgd, loss=ssd_loss.compute_loss)"
   ]
  },
  {
   "cell_type": "markdown",
   "metadata": {},
   "source": [
    "## 3. Set up the data generators for the training\n",
    "\n",
    "The code cells below set up the data generators for the training and validation datasets to train the model. The data set used is 2012 `trainval` for reproducing fine-tuned original result, and plus the Caltech-UCSD Birds-200-2011 for extra \"birds\" data. Comment out parse_csv for not loading birds data set."
   ]
  },
  {
   "cell_type": "code",
   "execution_count": 17,
   "metadata": {},
   "outputs": [
    {
     "name": "stdout",
     "output_type": "stream",
     "text": [
      "Processing image set 'train.txt': 100%|██████████| 5717/5717 [00:09<00:00, 618.30it/s]\n",
      "# before adding birds data:  5717\n",
      "# after adding birds data:  6460\n",
      "Processing image set 'val.txt': 100%|██████████| 1106/1106 [00:01<00:00, 597.17it/s]\n",
      "# before adding birds data:  1106\n",
      "# after adding birds data:  1478\n"
     ]
    }
   ],
   "source": [
    "# 1: Instantiate two `DataGenerator` objects: One for training, one for validation.\n",
    "\n",
    "train_dataset = DataGenerator(load_images_into_memory=False, hdf5_dataset_path=None)\n",
    "val_dataset = DataGenerator(load_images_into_memory=False, hdf5_dataset_path=None)\n",
    "\n",
    "# 2: Parse the image and label lists for the training and validation datasets. This can take a while.\n",
    "VOC_2012_images_dir                  = os.path.join(root_dir,'dataset/VOC2012/JPEGImages')\n",
    "VOC_2012_annotations_dir             = os.path.join(root_dir,'dataset/VOC2012/Annotations')\n",
    "VOC_2012_train_image_set_filename    = os.path.join(root_dir,'dataset/VOC2012/ImageSets/Main/train.txt')\n",
    "VOC_2012_val_image_set_filename      = os.path.join(root_dir,'dataset/VOC2012/ImageSets/Main/val.txt')\n",
    "bird_dir = os.path.join(root_dir,'dataset/bird_data')\n",
    "\n",
    "classes = ['background','aeroplane', 'bicycle', 'bird', 'boat','bottle', 'bus', 'car', 'cat','chair','cow', 'diningtable',\n",
    "           'dog','horse', 'motorbike', 'person', 'pottedplant','sheep', 'sofa', 'train', 'tvmonitor']\n",
    "\n",
    "train_dataset.parse_xml(images_dirs=[VOC_2012_images_dir],image_set_filenames=[VOC_2012_train_image_set_filename],\n",
    "                        annotations_dirs=[VOC_2012_annotations_dir],classes=classes,\n",
    "                        include_classes='all',\n",
    "                        exclude_truncated=False,\n",
    "                        exclude_difficult=False,\n",
    "                        ret=False)\n",
    "\n",
    "#CSV files are modified such that they all belong to the bird's class\n",
    "train_dataset.parse_csv(images_dir=bird_dir,\n",
    "                         labels_filename=os.path.join(root_dir,'dataset/bird_data/train_birds.csv'),\n",
    "                         input_format=['image_name', 'xmin', 'xmax', 'ymin', 'ymax', 'class_id'])\n",
    "\n",
    "val_dataset.parse_xml(images_dirs=[VOC_2012_images_dir],\n",
    "                      image_set_filenames=[VOC_2012_val_image_set_filename],\n",
    "                      annotations_dirs=[VOC_2012_annotations_dir],\n",
    "                      classes=classes,\n",
    "                      include_classes='all',\n",
    "                      exclude_truncated=False,\n",
    "                      exclude_difficult=True,\n",
    "                      ret=False)\n",
    "\n",
    "val_dataset.parse_csv(images_dir=bird_dir,\n",
    "                      labels_filename=os.path.join(root_dir,'dataset/bird_data/val_birds.csv'),\n",
    "                      input_format=['image_name', 'xmin', 'xmax', 'ymin', 'ymax', 'class_id'],\n",
    "                      include_classes='all')"
   ]
  },
  {
   "cell_type": "code",
   "execution_count": 23,
   "metadata": {},
   "outputs": [],
   "source": [
    "# 3: Set the batch size.\n",
    "\n",
    "batch_size = 16 # Change the batch size if you like, or if you run into GPU memory issues.\n",
    "\n",
    "# 4: Set the image transformations for pre-processing and data augmentation options.\n",
    "\n",
    "# For the training generator:\n",
    "ssd_data_augmentation = SSDDataAugmentation(img_height=img_height,\n",
    "                                            img_width=img_width,\n",
    "                                            background=mean_color)\n",
    "\n",
    "# For the validation generator:\n",
    "convert_to_3_channels = ConvertTo3Channels()\n",
    "resize = Resize(height=img_height, width=img_width)\n",
    "\n",
    "# 5: Instantiate an encoder that can encode ground truth labels into the format needed by the SSD loss function.\n",
    "\n",
    "# The encoder constructor needs the spatial dimensions of the model's predictor layers to create the anchor boxes.\n",
    "predictor_sizes = [model.get_layer('conv4_3_norm_mbox_conf').output_shape[1:3],\n",
    "                   model.get_layer('fc7_mbox_conf').output_shape[1:3],\n",
    "                   model.get_layer('conv6_2_mbox_conf').output_shape[1:3],\n",
    "                   model.get_layer('conv7_2_mbox_conf').output_shape[1:3],\n",
    "                   model.get_layer('conv8_2_mbox_conf').output_shape[1:3],\n",
    "                   model.get_layer('conv9_2_mbox_conf').output_shape[1:3]]\n",
    "\n",
    "ssd_input_encoder = SSDInputEncoder(img_height=img_height,\n",
    "                                    img_width=img_width,\n",
    "                                    n_classes=n_classes,\n",
    "                                    predictor_sizes=predictor_sizes,\n",
    "                                    scales=scales,\n",
    "                                    aspect_ratios_per_layer=aspect_ratios,\n",
    "                                    two_boxes_for_ar1=two_boxes_for_ar1,\n",
    "                                    steps=steps,\n",
    "                                    offsets=offsets,\n",
    "                                    clip_boxes=clip_boxes,\n",
    "                                    variances=variances,\n",
    "                                    matching_type='multi',\n",
    "                                    pos_iou_threshold=0.5,\n",
    "                                    neg_iou_limit=0.5,\n",
    "                                    normalize_coords=normalize_coords)\n",
    "\n",
    "# 6: Create the generator handles that will be passed to Keras' `fit_generator()` function.\n",
    "\n",
    "train_generator = train_dataset.generate(batch_size=batch_size,\n",
    "                                         shuffle=False,\n",
    "                                         transformations=[ssd_data_augmentation],\n",
    "                                         label_encoder=ssd_input_encoder,\n",
    "                                         returns={'processed_images',\n",
    "                                                  'encoded_labels'},\n",
    "                                         keep_images_without_gt=False)\n",
    "\n",
    "val_generator = val_dataset.generate(batch_size=batch_size,\n",
    "                                     shuffle=False,\n",
    "                                     transformations=[convert_to_3_channels,\n",
    "                                                      resize],\n",
    "                                     label_encoder=ssd_input_encoder,\n",
    "                                     returns={'processed_images',\n",
    "                                              'encoded_labels'},\n",
    "                                     keep_images_without_gt=False)\n",
    "\n",
    "train_dataset_size = train_dataset.get_dataset_size()\n",
    "val_dataset_size   = val_dataset.get_dataset_size()"
   ]
  },
  {
   "cell_type": "markdown",
   "metadata": {},
   "source": [
    "## 4. Set the remaining training parameters"
   ]
  },
  {
   "cell_type": "code",
   "execution_count": 24,
   "metadata": {},
   "outputs": [],
   "source": [
    "#Use a constant learning rate since only training for a small nunber of epochs.\n",
    "    \n",
    "def lr_schedule(epoch):\n",
    "    return 0.001"
   ]
  },
  {
   "cell_type": "code",
   "execution_count": 25,
   "metadata": {},
   "outputs": [],
   "source": [
    "# Define model callbacks.\n",
    "\n",
    "model_checkpoint = ModelCheckpoint(filepath= os.path.join(root_dir,'VGG_VOC0712COCO_SSD_300x300_witBirds.h5'), \n",
    "                                   monitor='val_loss',\n",
    "                                   verbose=1,\n",
    "                                   save_best_only=True,\n",
    "                                   save_weights_only=False,\n",
    "                                   mode='auto',\n",
    "                                   period=1)\n",
    "\n",
    "csv_logger = CSVLogger(filename='Birds_tuning.csv',\n",
    "                       separator=',',\n",
    "                       append=True)\n",
    "\n",
    "learning_rate_scheduler = LearningRateScheduler(schedule=lr_schedule,\n",
    "                                                verbose=1)\n",
    "\n",
    "terminate_on_nan = TerminateOnNaN()\n",
    "\n",
    "callbacks = [model_checkpoint,\n",
    "             csv_logger,\n",
    "             learning_rate_scheduler,\n",
    "             terminate_on_nan]"
   ]
  },
  {
   "cell_type": "markdown",
   "metadata": {},
   "source": [
    "## 5. Train"
   ]
  },
  {
   "cell_type": "code",
   "execution_count": null,
   "metadata": {
    "scrolled": true
   },
   "outputs": [],
   "source": [
    "#Training time around 2 hours on GeForce GTX 1050\n",
    "#Set `initial_epoch` and `final_epoch` accordingly for resuming.\n",
    "initial_epoch   = 0\n",
    "final_epoch     = 5\n",
    "steps_per_epoch = 20\n",
    "\n",
    "history = model.fit_generator(generator=train_generator,\n",
    "                              steps_per_epoch=steps_per_epoch,\n",
    "                              epochs=final_epoch,\n",
    "                              callbacks=callbacks,\n",
    "                              validation_data=val_generator,\n",
    "                              validation_steps=ceil(val_dataset_size/batch_size)\n",
    "                              ,initial_epoch=initial_epoch)"
   ]
  },
  {
   "cell_type": "markdown",
   "metadata": {},
   "source": [
    "## 6. Evaluation\n",
    "\n",
    "Use the evaluator to test the performance on 2007 test data."
   ]
  },
  {
   "cell_type": "markdown",
   "metadata": {},
   "source": [
    "### 6.1 Chaning to inference mode for evaluation. Rebuild model and load the weights just trained to it."
   ]
  },
  {
   "cell_type": "code",
   "execution_count": 29,
   "metadata": {},
   "outputs": [],
   "source": [
    "model_mode = 'inference'\n",
    "\n",
    "K.clear_session() # Clear previous models from memory.\n",
    "\n",
    "model = ssd_300(image_size=(img_height, img_width, 3),\n",
    "                n_classes=n_classes,\n",
    "                mode=model_mode,\n",
    "                l2_regularization=0.0005,\n",
    "                scales=[0.1, 0.2, 0.37, 0.54, 0.71, 0.88, 1.05], # The scales for MS COCO [0.07, 0.15, 0.33, 0.51, 0.69, 0.87, 1.05]\n",
    "                aspect_ratios_per_layer=[[1.0, 2.0, 0.5],\n",
    "                                         [1.0, 2.0, 0.5, 3.0, 1.0/3.0],\n",
    "                                         [1.0, 2.0, 0.5, 3.0, 1.0/3.0],\n",
    "                                         [1.0, 2.0, 0.5, 3.0, 1.0/3.0],\n",
    "                                         [1.0, 2.0, 0.5],\n",
    "                                         [1.0, 2.0, 0.5]],\n",
    "                two_boxes_for_ar1=True,\n",
    "                steps=[8, 16, 32, 64, 100, 300],\n",
    "                offsets=[0.5, 0.5, 0.5, 0.5, 0.5, 0.5],\n",
    "                clip_boxes=False,\n",
    "                variances=[0.1, 0.1, 0.2, 0.2],\n",
    "                normalize_coords=True,\n",
    "                subtract_mean=[123, 117, 104],\n",
    "                swap_channels=[2, 1, 0],\n",
    "                confidence_thresh=0.01,\n",
    "                iou_threshold=0.45,\n",
    "                top_k=200,\n",
    "                nms_max_output_size=400)\n",
    "\n",
    "# 2: Load the trained weights into the model.\n",
    "\n",
    "weights_path = os.path.join(root_dir,'VGG_VOC0712COCO_SSD_300x300_witBirds.h5') \n",
    "\n",
    "model.load_weights(weights_path, by_name=True)\n",
    "\n",
    "# 3: Compile the model so that Keras won't complain the next time you load it.\n",
    "\n",
    "adam = Adam(lr=0.001, beta_1=0.9, beta_2=0.999, epsilon=1e-08, decay=0.0)\n",
    "\n",
    "ssd_loss = SSDLoss(neg_pos_ratio=3, alpha=1.0)\n",
    "\n",
    "model.compile(optimizer=adam, loss=ssd_loss.compute_loss)"
   ]
  },
  {
   "cell_type": "markdown",
   "metadata": {},
   "source": [
    "### 6.2 Create a data generator for the evaluation dataset"
   ]
  },
  {
   "cell_type": "code",
   "execution_count": 30,
   "metadata": {},
   "outputs": [
    {
     "name": "stdout",
     "output_type": "stream",
     "text": [
      "Processing image set 'test.txt': 100%|██████████| 614/614 [00:01<00:00, 590.26it/s]\n"
     ]
    }
   ],
   "source": [
    "dataset = DataGenerator()\n",
    "\n",
    "#For faster evaluation, only a subset of VOC2007 test data are used.\n",
    "Pascal_VOC_dataset_images_dir = os.path.join(root_dir,'dataset/testing07/JPEGImages')\n",
    "Pascal_VOC_dataset_annotations_dir = os.path.join(root_dir,'dataset/testing07/Annotations')\n",
    "Pascal_VOC_dataset_image_set_filename = os.path.join(root_dir,'dataset/testing07/ImageSets/Main/test.txt')\n",
    "\n",
    "classes = ['background',\n",
    "           'aeroplane', 'bicycle', 'bird', 'boat',\n",
    "           'bottle', 'bus', 'car', 'cat',\n",
    "           'chair', 'cow', 'diningtable', 'dog',\n",
    "           'horse', 'motorbike', 'person', 'pottedplant',\n",
    "           'sheep', 'sofa', 'train', 'tvmonitor']\n",
    "\n",
    "dataset.parse_xml(images_dirs=[Pascal_VOC_dataset_images_dir],\n",
    "                  image_set_filenames=[Pascal_VOC_dataset_image_set_filename],\n",
    "                  annotations_dirs=[Pascal_VOC_dataset_annotations_dir],\n",
    "                  classes=classes,\n",
    "                  include_classes='all',\n",
    "                  exclude_truncated=False,\n",
    "                  exclude_difficult=False,\n",
    "                  ret=False)"
   ]
  },
  {
   "cell_type": "markdown",
   "metadata": {},
   "source": [
    "### 6.3 Run the evaluation"
   ]
  },
  {
   "cell_type": "code",
   "execution_count": 33,
   "metadata": {},
   "outputs": [
    {
     "name": "stdout",
     "output_type": "stream",
     "text": [
      "Number of images in the evaluation dataset: 614\n",
      "\n",
      "Producing predictions batch-wise: 100%|██████████| 77/77 [03:43<00:00,  2.69s/it]\n",
      "Matching predictions to ground truth, class 1/20.: 100%|██████████| 3364/3364 [00:00<00:00, 22786.15it/s]\n",
      "Matching predictions to ground truth, class 2/20.: 100%|██████████| 1369/1369 [00:00<00:00, 35169.61it/s]\n",
      "Matching predictions to ground truth, class 3/20.: 100%|██████████| 10747/10747 [00:00<00:00, 36042.49it/s]\n",
      "Matching predictions to ground truth, class 4/20.: 100%|██████████| 5417/5417 [00:00<00:00, 29843.35it/s]\n",
      "Matching predictions to ground truth, class 5/20.: 100%|██████████| 1380/1380 [00:00<00:00, 46081.71it/s]\n",
      "Matching predictions to ground truth, class 6/20.: 100%|██████████| 747/747 [00:00<00:00, 31173.40it/s]\n",
      "Matching predictions to ground truth, class 7/20.: 100%|██████████| 8036/8036 [00:00<00:00, 26678.08it/s]\n",
      "Matching predictions to ground truth, class 8/20.: 100%|██████████| 1778/1778 [00:00<00:00, 28741.84it/s]\n",
      "Matching predictions to ground truth, class 9/20.: 100%|██████████| 34050/34050 [00:00<00:00, 47484.11it/s]\n",
      "Matching predictions to ground truth, class 10/20.: 100%|██████████| 1092/1092 [00:00<00:00, 28814.32it/s]\n",
      "Matching predictions to ground truth, class 11/20.: 100%|██████████| 1697/1697 [00:00<00:00, 48578.25it/s]\n",
      "Matching predictions to ground truth, class 12/20.: 100%|██████████| 2711/2711 [00:00<00:00, 31969.43it/s]\n",
      "Matching predictions to ground truth, class 13/20.: 100%|██████████| 1215/1215 [00:00<00:00, 26484.28it/s]\n",
      "Matching predictions to ground truth, class 14/20.: 100%|██████████| 805/805 [00:00<00:00, 23062.78it/s]\n",
      "Matching predictions to ground truth, class 15/20.: 100%|██████████| 32494/32494 [00:01<00:00, 29564.49it/s]\n",
      "Matching predictions to ground truth, class 16/20.: 100%|██████████| 8164/8164 [00:00<00:00, 59750.51it/s]\n",
      "Matching predictions to ground truth, class 17/20.: 100%|██████████| 2247/2247 [00:00<00:00, 32638.86it/s]\n",
      "Matching predictions to ground truth, class 18/20.: 100%|██████████| 521/521 [00:00<00:00, 34829.42it/s]\n",
      "Matching predictions to ground truth, class 19/20.: 100%|██████████| 2016/2016 [00:00<00:00, 24642.82it/s]\n",
      "Matching predictions to ground truth, class 20/20.: 100%|██████████| 1398/1398 [00:00<00:00, 38908.56it/s]\n",
      "Computing precisions and recalls, class 1/20\n",
      "Computing precisions and recalls, class 2/20\n",
      "Computing precisions and recalls, class 3/20\n",
      "Computing precisions and recalls, class 4/20\n",
      "Computing precisions and recalls, class 5/20\n",
      "Computing precisions and recalls, class 6/20\n",
      "Computing precisions and recalls, class 7/20\n",
      "Computing precisions and recalls, class 8/20\n",
      "Computing precisions and recalls, class 9/20\n",
      "Computing precisions and recalls, class 10/20\n",
      "Computing precisions and recalls, class 11/20\n",
      "Computing precisions and recalls, class 12/20\n",
      "Computing precisions and recalls, class 13/20\n",
      "Computing precisions and recalls, class 14/20\n",
      "Computing precisions and recalls, class 15/20\n",
      "Computing precisions and recalls, class 16/20\n",
      "Computing precisions and recalls, class 17/20\n",
      "Computing precisions and recalls, class 18/20\n",
      "Computing precisions and recalls, class 19/20\n",
      "Computing precisions and recalls, class 20/20\n",
      "Computing average precision, class 1/20\n",
      "Computing average precision, class 2/20\n",
      "Computing average precision, class 3/20\n",
      "Computing average precision, class 4/20\n",
      "Computing average precision, class 5/20\n",
      "Computing average precision, class 6/20\n",
      "Computing average precision, class 7/20\n",
      "Computing average precision, class 8/20\n",
      "Computing average precision, class 9/20\n",
      "Computing average precision, class 10/20\n",
      "Computing average precision, class 11/20\n",
      "Computing average precision, class 12/20\n",
      "Computing average precision, class 13/20\n",
      "Computing average precision, class 14/20\n",
      "Computing average precision, class 15/20\n",
      "Computing average precision, class 16/20\n",
      "Computing average precision, class 17/20\n",
      "Computing average precision, class 18/20\n",
      "Computing average precision, class 19/20\n",
      "Computing average precision, class 20/20\n"
     ]
    }
   ],
   "source": [
    "evaluator = Evaluator(model=model,\n",
    "                      n_classes=n_classes,\n",
    "                      data_generator=dataset,\n",
    "                      model_mode=model_mode)\n",
    "\n",
    "results = evaluator(img_height=img_height,\n",
    "                    img_width=img_width,\n",
    "                    batch_size=8,\n",
    "                    data_generator_mode='resize',\n",
    "                    round_confidences=False,\n",
    "                    matching_iou_threshold=0.5,\n",
    "                    border_pixels='include',\n",
    "                    sorting_algorithm='quicksort',\n",
    "                    average_precision_mode='sample',\n",
    "                    num_recall_points=11,\n",
    "                    ignore_neutral_boxes=True,\n",
    "                    return_precisions=True,\n",
    "                    return_recalls=True,\n",
    "                    return_average_precisions=True,\n",
    "                    verbose=True)\n",
    "\n",
    "mean_average_precision, average_precisions, precisions, recalls = results"
   ]
  },
  {
   "cell_type": "code",
   "execution_count": 34,
   "metadata": {},
   "outputs": [
    {
     "name": "stdout",
     "output_type": "stream",
     "text": [
      "aeroplane     AP    0.859\n",
      "bicycle       AP    0.693\n",
      "bird          AP    0.772\n",
      "boat          AP    0.714\n",
      "bottle        AP    0.383\n",
      "bus           AP    0.97\n",
      "car           AP    0.847\n",
      "cat           AP    0.696\n",
      "chair         AP    0.552\n",
      "cow           AP    0.487\n",
      "diningtable   AP    0.659\n",
      "dog           AP    0.657\n",
      "horse         AP    0.738\n",
      "motorbike     AP    0.791\n",
      "person        AP    0.747\n",
      "pottedplant   AP    0.408\n",
      "sheep         AP    0.772\n",
      "sofa          AP    0.659\n",
      "train         AP    0.825\n",
      "tvmonitor     AP    0.551\n",
      "\n",
      "              mAP   0.689\n"
     ]
    }
   ],
   "source": [
    "for i in range(1, len(average_precisions)):\n",
    "    print(\"{:<14}{:<6}{}\".format(classes[i], 'AP', round(average_precisions[i], 3)))\n",
    "print()\n",
    "print(\"{:<14}{:<6}{}\".format('','mAP', round(mean_average_precision, 3)))"
   ]
  }
 ],
 "metadata": {
  "kernelspec": {
   "display_name": "Python 3",
   "language": "python",
   "name": "python3"
  },
  "language_info": {
   "codemirror_mode": {
    "name": "ipython",
    "version": 3
   },
   "file_extension": ".py",
   "mimetype": "text/x-python",
   "name": "python",
   "nbconvert_exporter": "python",
   "pygments_lexer": "ipython3",
   "version": "3.6.7"
  },
  "widgets": {
   "state": {},
   "version": "1.1.2"
  }
 },
 "nbformat": 4,
 "nbformat_minor": 2
}
